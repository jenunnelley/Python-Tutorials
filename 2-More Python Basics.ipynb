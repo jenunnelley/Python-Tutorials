{
 "cells": [
  {
   "cell_type": "markdown",
   "metadata": {},
   "source": [
    "# More Python Basics\n",
    "Prepared by Jen Nunnelley with influence from Nickolas Freeman, Ph.D. and Irem Sengul orgut, Ph.D.\n",
    "\n",
    "<a id=\"Table_of_Contents\"> </a>\n",
    "The following table of contents lists the topics discussed in this notebook. Clicking on any topic will advance the notebook to the associated area.\n",
    "\n",
    "## Table of Contents\n",
    "\n",
    "1. Flow Control<br>\n",
    "    a. [if Statements](#if_Statements)<br>\n",
    "    b. [for Loops](#for_Loops)<br>\n",
    "    c. [while Loops](#while_Loops)<br>\n",
    "2. [Strings](#Strings)<br>\n",
    "3. [Lists](#Lists)<br>\n"
   ]
  },
  {
   "cell_type": "markdown",
   "metadata": {},
   "source": [
    "### Reminder\n",
    "#### Comparison Operators\n",
    "- the comparison operator `==` means *Equal to*\n",
    "- the comparison operator `!=` means *Not equal to*\n",
    "- the comparison operator `<` means *Less than*\n",
    "- the comparison operator `>` means *Greater than*\n",
    "- the comparison operator `<=` means *Less than or equal to*\n",
    "- the comparison operator `>=` means *Greater than or equal to*\n",
    "\n"
   ]
  },
  {
   "cell_type": "markdown",
   "metadata": {},
   "source": [
    "<a id=\"if_Statements\"> </a>\n",
    "## if Statments\n",
    "\n",
    "We are trying to decide who is the oldest out of Henry, Nancy, and Halie. Henry is 53; Nancy is 58, and Halie is 28.  Write and if statment that will test these values out.   "
   ]
  },
  {
   "cell_type": "code",
   "execution_count": null,
   "metadata": {},
   "outputs": [],
   "source": []
  },
  {
   "cell_type": "markdown",
   "metadata": {},
   "source": [
    "<b>If we want to be able to change their ages everytime the code is written we would use an input function.  \n",
    "Let us change the code to reflect this. <b>"
   ]
  },
  {
   "cell_type": "code",
   "execution_count": null,
   "metadata": {
    "scrolled": true
   },
   "outputs": [],
   "source": []
  },
  {
   "cell_type": "markdown",
   "metadata": {},
   "source": [
    "<a id=\"Flow Control\"> </a>\n",
    "<a id=\"for_Loops\"> </a>\n",
    "## for Loops\n",
    "\n",
    "The first loop type that we discuss is the *for* loop. A `for` loop is used whenever we want to perform a portion of code for a fixed number of times. \n",
    "\n",
    "<b>Write some code that will calculate the sum of the squared values for the integers ranging from 0 to 10<b>"
   ]
  },
  {
   "cell_type": "code",
   "execution_count": null,
   "metadata": {
    "scrolled": true
   },
   "outputs": [],
   "source": []
  },
  {
   "cell_type": "markdown",
   "metadata": {},
   "source": [
    "<B>In the block below, create a for loop that will calculate the value of integers from 1 to 100 in increments of 5 that will sum up the values of the integer multiplied by two.  <b>"
   ]
  },
  {
   "cell_type": "code",
   "execution_count": null,
   "metadata": {},
   "outputs": [],
   "source": []
  },
  {
   "cell_type": "markdown",
   "metadata": {},
   "source": [
    "<a id=\"while_Loops\"> </a>\n",
    "### *while* Loops\n",
    "\n",
    "A *while* loop is used whenever we want to repeat a calculation until a condition is met. \n",
    "\n",
    "<div class=\"alert alert-block alert-info\">\n",
    "    <b>The <i>+=</i> and <i>-=</i> operators:</b> The <i>+=</i> and <i>-=</i> operators are shorthand operators that are used to increase and decrease the values of a variable by a value. For example, the code <i>my_var += 5</> is equivalent to <i>my_var = my_var + 5</i>. \n",
    "</div>\n",
    "\n",
    "<b>Write a piece of code that will print all numbers with a squared value that is less than 200.<b>"
   ]
  },
  {
   "cell_type": "code",
   "execution_count": null,
   "metadata": {},
   "outputs": [],
   "source": []
  },
  {
   "cell_type": "markdown",
   "metadata": {},
   "source": [
    "<a id=\"Strings\"> </a>\n",
    "### Strings\n",
    "\n",
    "Besides numbers, Python can also manipulate strings, which can be expressed in several ways.  They can be encclosed in single quotes ('...') or double quotes (\"...\").  \n",
    "\n",
    "<b>Create a variable of your  full name called Name.  Then create a piece of code that will return the first character of your name. <b>"
   ]
  },
  {
   "cell_type": "code",
   "execution_count": null,
   "metadata": {},
   "outputs": [],
   "source": []
  },
  {
   "cell_type": "markdown",
   "metadata": {},
   "source": [
    "<B>Using the same variable declared above of Name, return your first name. "
   ]
  },
  {
   "cell_type": "code",
   "execution_count": null,
   "metadata": {},
   "outputs": [],
   "source": []
  },
  {
   "cell_type": "markdown",
   "metadata": {},
   "source": [
    "<b>Using the same variable delcared above of Name, return the last character in your last name. "
   ]
  },
  {
   "cell_type": "code",
   "execution_count": null,
   "metadata": {},
   "outputs": [],
   "source": []
  },
  {
   "cell_type": "markdown",
   "metadata": {},
   "source": [
    "<b>Using the same variable declared above of Name, return how many characters are in the text string.<b>"
   ]
  },
  {
   "cell_type": "code",
   "execution_count": null,
   "metadata": {},
   "outputs": [],
   "source": []
  },
  {
   "cell_type": "markdown",
   "metadata": {},
   "source": [
    "<a id=\"Lists\"> </a>\n",
    "### Lists\n",
    "\n",
    "Python knows a number of compoud data types, used to group together other values.  The most versatile is the list, which can be written as a list of comma-separated values between square brackets.  Lists might contain items of different types, but usually the items all have the same type.  \n",
    "\n",
    "<b>Create a list called squares that will show the squared values of 1, 2, 3, 4 and 5.<b>"
   ]
  },
  {
   "cell_type": "code",
   "execution_count": null,
   "metadata": {},
   "outputs": [],
   "source": []
  },
  {
   "cell_type": "markdown",
   "metadata": {},
   "source": [
    "<b>Include 6^2 to the variable squares. "
   ]
  },
  {
   "cell_type": "code",
   "execution_count": null,
   "metadata": {},
   "outputs": [],
   "source": []
  },
  {
   "cell_type": "markdown",
   "metadata": {},
   "source": [
    "<b>Remove 1^2 from the squares variable<b>\n"
   ]
  },
  {
   "cell_type": "code",
   "execution_count": null,
   "metadata": {},
   "outputs": [],
   "source": []
  },
  {
   "cell_type": "markdown",
   "metadata": {},
   "source": [
    "<b>Create a new list that will be the names of Alabama's Football Opponents to date. <b>"
   ]
  },
  {
   "cell_type": "code",
   "execution_count": null,
   "metadata": {},
   "outputs": [],
   "source": []
  },
  {
   "cell_type": "markdown",
   "metadata": {},
   "source": [
    "<b>Create a piece of code that will show you which game was the 4th game in the season. <b>"
   ]
  },
  {
   "cell_type": "code",
   "execution_count": null,
   "metadata": {},
   "outputs": [],
   "source": []
  }
 ],
 "metadata": {
  "kernelspec": {
   "display_name": "Python 3",
   "language": "python",
   "name": "python3"
  },
  "language_info": {
   "codemirror_mode": {
    "name": "ipython",
    "version": 3
   },
   "file_extension": ".py",
   "mimetype": "text/x-python",
   "name": "python",
   "nbconvert_exporter": "python",
   "pygments_lexer": "ipython3",
   "version": "3.7.4"
  }
 },
 "nbformat": 4,
 "nbformat_minor": 2
}
