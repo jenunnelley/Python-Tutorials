{
 "cells": [
  {
   "cell_type": "markdown",
   "metadata": {},
   "source": [
    "# Python Basics\n",
    "Prepared by: Jen Nunnelley and Nickolas Freeman, Ph.D.\n",
    "\n",
    "Why Learn Python? (Video):  https://www.youtube.com/watch?v=hxGB7LU4i1I\n",
    "\n",
    "This notebook provides a very basic introduction to the Python programming language. The following description of the Python language was taken from https://en.wikipedia.org/wiki/Python_(programming_language) on 1/6/2018, and serves as a decent introduction to the language.\n",
    "\n",
    ">Python is an interpreted high-level programming language for general-purpose programming. Created by Guido van Rossum and first released in 1991, Python has a design philosophy that emphasizes code readability, and a syntax that allows programmers to express concepts in fewer lines of code, notably using significant whitespace. It provides constructs that enable clear programming on both small and large scales.\n",
    "\n",
    ">Python is a multi-paradigm programming language. Object-oriented programming and structured programming are fully supported, and many of its features support functional programming and aspect-oriented programming (including by metaprogramming and metaobjects (magic methods)). Many other paradigms are supported via extensions, including design by contract and logic programming.\n",
    "\n",
    ">The language's core philosophy is summarized in the document The Zen of Python (PEP 20), which includes aphorisms such as:\n",
    "\n",
    "> - Beautiful is better than ugly\n",
    "> - Explicit is better than implicit\n",
    "> - Simple is better than complex\n",
    "> - Complex is better than complicated\n",
    "> - Readability counts\n",
    "\n",
    "> Rather than having all of its functionality built into its core, Python was designed to be highly extensible. This compact modularity has made it particularly popular as a means of adding programmable interfaces to existing applications. Van Rossum's vision of a small core language with a large standard library and easily extensible interpreter stemmed from his frustrations with ABC, another programming language that espoused the opposite approach.\n",
    "\n",
    "> While offering choice in coding methodology, the Python philosophy rejects exuberant syntax (such as that of Perl) in favor of a simpler, less-cluttered grammar. As Alex Martelli put it: \"To describe something as 'clever' is not considered a compliment in the Python culture.\" Python's philosophy rejects the Perl \"there is more than one way to do it\" approach to language design in favor of \"there should be one—and preferably only one—obvious way to do it\".\n",
    "\n",
    ">Python's developers strive to avoid premature optimization, and reject patches to non-critical parts of CPython that would offer marginal increases in speed at the cost of clarity. When speed is important, a Python programmer can move time-critical functions to extension modules written in languages such as C, or use PyPy, a just-in-time compiler. Cython is also available, which translates a Python script into C and makes direct C-level API calls into the Python interpreter.\n",
    "\n",
    ">An important goal of Python's developers is keeping it fun to use. This is reflected in the language's name—a tribute to the British comedy group Monty Python—and in occasionally playful approaches to tutorials and reference materials, such as examples that refer to spam and eggs (from a famous Monty Python sketch) instead of the standard foo and bar.\n",
    "\n",
    ">A common neologism in the Python community is *pythonic*, which can have a wide range of meanings related to program style. To say that code is pythonic is to say that it uses Python idioms well, that it is natural or shows fluency in the language, that it conforms with Python's minimalist philosophy and emphasis on readability. In contrast, code that is difficult to understand or reads like a rough transcription from another programming language is called unpythonic.\n",
    "\n",
    ">Users and admirers of Python, especially those considered knowledgeable or experienced, are often referred to as Pythonists, Pythonistas, and Pythoneers\n",
    "\n",
    "## Disclaimer\n",
    "As stated previously, this notebook doesn't represent a comprehensive overview of the Python programming language. Instead, it provides basic details on data structures that are useful for addressing problems in operations and supply chain management. In this notebook, we will primarly be using objects and operations that are defined in the base language. Other notebooks will look at the extended functionality available through additional libraries that may be imported into a Python project.\n",
    "\n",
    "Before continuing, it is important to realize that the Python language and the available libraries will continue to evolve. That being said, the objects, functions, and methods described in this notebook may one day change. If changes occur, areas of this notebook that use deprecated features may cease to work and will need to be revised or omitted.\n"
   ]
  },
  {
   "cell_type": "markdown",
   "metadata": {},
   "source": [
    "<a id=\"Table_of_Contents\"> </a>\n",
    "The following table of contents lists the topics discussed in this notebook. Clicking on any topic will advance the notebook to the associated area.\n",
    "\n",
    "# Table of Contents\n",
    "\n",
    "1. [Getting Help](#Getting_Help)<br>\n",
    "2. [Mathematical Operations and Precedence Relationships](#Math_Ops_Prec)<br>\n",
    "3. [Variables](#Variables)<br>\n",
    "3. [if Statements](#If_Statements)<br>\n"
   ]
  },
  {
   "cell_type": "markdown",
   "metadata": {},
   "source": [
    "## Getting Help\n",
    "<a id=\"Getting_Help\"> </a>\n",
    "\n",
    "Compared to existing languages, Python is very user-friendly in the sense that documentation on the various modules and methods is generally available and easy to access while coding. You can find information regarding Python functions using the built in help() function.\n",
    "\n",
    "<b>Using the help function, find out how to use the len function<b>"
   ]
  },
  {
   "cell_type": "code",
   "execution_count": null,
   "metadata": {},
   "outputs": [],
   "source": []
  },
  {
   "cell_type": "markdown",
   "metadata": {},
   "source": [
    "<b>Using the help function, find out how to use the print function<b>"
   ]
  },
  {
   "cell_type": "code",
   "execution_count": null,
   "metadata": {},
   "outputs": [],
   "source": []
  },
  {
   "cell_type": "markdown",
   "metadata": {},
   "source": [
    "Although we will largely be avoiding the use of libraries that fall outside of the Python base code in this notebook, it is worth noting that you can also use the `help()` function to find information regarding functions and attributes of imported libraries. The following cell block provides an example that shows how to find for the `std()` function that is part of the NumPy library. We will explore the NumPy library in more detail in another notebook.\n",
    "\n",
    "Finally, in a Jupyter notebook, hitting the key combination <SHIFT> + <TAB> within the arguments area of a Python function will bring up help on the associated function\n",
    "    \n",
    "    \n",
    "[Back to Table of Contents](#Table_of_Contents)<br>"
   ]
  },
  {
   "cell_type": "markdown",
   "metadata": {},
   "source": [
    "## Mathematical Operations and Precedence Relationships\n",
    "<a id=\"Math_Ops_Prec\"> </a>\n",
    "\n",
    "It will often be the case that we wish to perform computations in our programs. The basic mathematical operators implemented in Python follow. \n",
    "\n",
    "- `-` denotes subtration (example: `5 - 2` evaluates to `3`)\n",
    "- `+` denotes addition (example: `5 + 2` evaluates to `7`)- `**` denotes exonentiation (example: `2 ** 3` evaluates to `8`)\n",
    "- `*` denotes multiplication (example: `3 * 5` evaluates to `15`)\n",
    "- `/` denotes floating-point division (example: `22 / 8` evaluates to `2.75`)\n",
    "- `%` denotes the modulus/remainder operation (example: `22 % 8` evaluates to `6`)\n",
    "- `//` denotes integer division (example: `22 // 8` evaluates to `2`)\n",
    "\n",
    "As is true for mathematics in general, Python enforces a precedence relatioship among the basic operators.  The list of basic operators is sorted by highest to lowest precedence. For example, the exponentiation operator takes precedence over the subtraction operation. Thus, for the expression `3 + 5 ** 2`, Python will first evaluate `5 ** 2`, which is 25, then `3 + 25`. \n",
    "\n",
    "Parentheses can be used to enforce a custom precedence relationship. For example, if we write `(3 + 5) ** 2` instead of `3 + 5 ** 2`, Python will first evaluate `3 + 5`, which is 8, then `8 ** 2`. The following two code blocks confirm this behavior.\n",
    "\n",
    "[Back to Table of Contents](#Table_of_Contents)<br>\n",
    "\n",
    "<b>In the block below, calculate the sum of 56 and 103<b>"
   ]
  },
  {
   "cell_type": "code",
   "execution_count": null,
   "metadata": {},
   "outputs": [],
   "source": []
  },
  {
   "cell_type": "markdown",
   "metadata": {},
   "source": [
    "<b>In the block below, calculate 2 cubed<b>"
   ]
  },
  {
   "cell_type": "code",
   "execution_count": null,
   "metadata": {},
   "outputs": [],
   "source": []
  },
  {
   "cell_type": "markdown",
   "metadata": {},
   "source": [
    "<b>In the block below, calculate 10 plus 3 squared<b>"
   ]
  },
  {
   "cell_type": "code",
   "execution_count": null,
   "metadata": {},
   "outputs": [],
   "source": []
  },
  {
   "cell_type": "markdown",
   "metadata": {},
   "source": [
    "<b>In the block below, calculate the summation of 10 and 3 then square it<b>"
   ]
  },
  {
   "cell_type": "code",
   "execution_count": null,
   "metadata": {},
   "outputs": [],
   "source": []
  },
  {
   "cell_type": "markdown",
   "metadata": {},
   "source": [
    "## Variables\n",
    "<a id=\"Variables\"> </a>\n",
    "\n",
    "Oftentimes, we will need some form of intermediate storage for complex computations or objects. In most programming languages, such storage means are referred to as *variables*. Essentially, a variable is like a partition of your computer's memory where you store an object or value(s). This allows you to use the object or value later in your program.\n",
    "\n",
    "You create variables using an *assignment statement*. For example, the statement `my_var = 42` creates a new variable named `my_var` and storing the value 42 in it. When naming variables, it is helpful to name them in a manner that reminds you of the value or object stored. You can name a variable anything you would like as long as:\n",
    "1. It can be only one word, i.e., no spaces.\n",
    "2. It can use only letters, numbers, and the underscore (_) character.\n",
    "3. It can’t begin with a number.\n",
    "\n",
    "The value or object that is assigned to a variable can be updated throughout the execution of a program. The following code block demonstrates this.\n",
    "\n",
    "[Back to Table of Contents](#Table_of_Contents)<br>\n",
    "\n",
    "<b>In the block below, create a variable called \"NationalChamps\" and assign the value 17 to it then print the variable<b>"
   ]
  },
  {
   "cell_type": "code",
   "execution_count": null,
   "metadata": {},
   "outputs": [],
   "source": []
  },
  {
   "cell_type": "markdown",
   "metadata": {},
   "source": [
    "<b>In the block below, create two variables called Saban and Bear.  Assign a 5 to Saban and a 6 to Bear. \n",
    "Then create a new variable called TotalNattys and calculate how many national championships the two have together using the variables.  Then print create a way that will display \"Bear Bryant and Nick Saban have a combined `x` number of National Championships. <b>"
   ]
  },
  {
   "cell_type": "code",
   "execution_count": null,
   "metadata": {},
   "outputs": [],
   "source": []
  },
  {
   "cell_type": "markdown",
   "metadata": {},
   "source": [
    "\n",
    "## Flow Control\n",
    "<a id=\"Variables\"> </a>\n",
    "\n",
    "A major benefit of using a programming language to perform a computational task is the ability to control follow, evaluating expressions repeatedly, skipping computations in certain cases, or choosing one of many conditions to run depending on a condition. This section demonstrates several techniques that can be used to control the flow of a program. \n",
    "\n",
    "Before dicussing different mechanisms for flow control, it is important to understand the various comparison operators that are available in Python.\n",
    "\n",
    "- the comparison operator `==` means *Equal to*\n",
    "- the comparison operator `!=` means *Not equal to*\n",
    "- the comparison operator `<` means *Less than*\n",
    "- the comparison operator `>` means *Greater than*\n",
    "- the comparison operator `<=` means *Less than or equal to*\n",
    "- the comparison operator `>=` means *Greater than or equal to*\n",
    "\n",
    "These operators evaluate to `True` or `False`, which are *boolean* statements in Python, depending on the values/epressions they are contained in. The following code blocks provides some examples. \n",
    "\n",
    "[Back to Table of Contents](#Table_of_Contents)<br>\n",
    "\n",
    "<b>In the block of code below, let python test if 3 is equal to 3<b>"
   ]
  },
  {
   "cell_type": "code",
   "execution_count": null,
   "metadata": {},
   "outputs": [],
   "source": []
  },
  {
   "cell_type": "markdown",
   "metadata": {},
   "source": [
    "<b>In the block of code below, let python test if 3 is not equal to 3<b>"
   ]
  },
  {
   "cell_type": "code",
   "execution_count": null,
   "metadata": {},
   "outputs": [],
   "source": []
  },
  {
   "cell_type": "markdown",
   "metadata": {},
   "source": [
    "<b>In the block of code below, let python test if 3 is greater than 3<b>"
   ]
  },
  {
   "cell_type": "code",
   "execution_count": null,
   "metadata": {},
   "outputs": [],
   "source": []
  },
  {
   "cell_type": "markdown",
   "metadata": {},
   "source": [
    "<b>In the block of code below, let python test if 3 is less than 3<b>"
   ]
  },
  {
   "cell_type": "code",
   "execution_count": null,
   "metadata": {},
   "outputs": [],
   "source": []
  },
  {
   "cell_type": "markdown",
   "metadata": {},
   "source": [
    "<b>In the block of code below, let python test if 3 is greater than or equal to 3<b>"
   ]
  },
  {
   "cell_type": "code",
   "execution_count": null,
   "metadata": {},
   "outputs": [],
   "source": []
  },
  {
   "cell_type": "markdown",
   "metadata": {},
   "source": [
    "<b>In the block of code below, let python test if 3 is less than or equal to 3<b>"
   ]
  },
  {
   "cell_type": "code",
   "execution_count": null,
   "metadata": {},
   "outputs": [],
   "source": []
  },
  {
   "cell_type": "markdown",
   "metadata": {},
   "source": [
    "You can combine the comparison operators with the additional *boolean* operators `and`, `or`, and `not` to develop more complex expressions. The following code blocks provide examples.\n",
    "\n",
    "[Back to Table of Contents](#Table_of_Contents)<br>\n",
    "\n",
    "<b>In the block of code below, test if 3 is greater than 4 and 5-7 is less than 3<b>"
   ]
  },
  {
   "cell_type": "code",
   "execution_count": null,
   "metadata": {},
   "outputs": [],
   "source": []
  },
  {
   "cell_type": "markdown",
   "metadata": {},
   "source": [
    "<b>In the block of code below, test if 3 is greater than 4 or 5-7 is less than 3<b>"
   ]
  },
  {
   "cell_type": "code",
   "execution_count": null,
   "metadata": {},
   "outputs": [],
   "source": []
  },
  {
   "cell_type": "markdown",
   "metadata": {},
   "source": [
    "<b>In the block of code below, test to see if 3 is not greater than 4<b>"
   ]
  },
  {
   "cell_type": "code",
   "execution_count": null,
   "metadata": {},
   "outputs": [],
   "source": []
  },
  {
   "cell_type": "markdown",
   "metadata": {},
   "source": [
    "### *if* Statements\n",
    "<a id=\"If_Statements\"> </a>\n",
    "\n",
    "One of the most common flow control statements is an *if* statement. Given a Python expression that defines a condition and a clause to be executed if the codition is true, an *if* statement allows us to implement the following logic in the code:\n",
    "\n",
    ">\"If this condition is true, execute the code in the clause.\"\n",
    "\n",
    "The following code block provides an example. Feel free to change the value of `my_var` to verify the two statements work correctly.\n",
    "\n",
    "[Back to Table of Contents](#Table_of_Contents)<br>\n",
    "\n",
    "<b>In the block of code below, create a variable called myVar and make it equal 4.\n",
    "Then using myVar test if it is less than or equal to 4.  If it is, return \"The value of myVar is less than or equal to 4.\"<b>"
   ]
  },
  {
   "cell_type": "code",
   "execution_count": null,
   "metadata": {},
   "outputs": [],
   "source": []
  },
  {
   "cell_type": "markdown",
   "metadata": {},
   "source": [
    "In addition to checking whether or not a single condition is satisfied, the *if* statement may be extended to perform more comparisons where one of many conditions may be true using the `elif` (else if) and `else` statements. The following code blocks demonstrate the use of the *if-elif-else* structure.\n",
    "\n",
    "<div class=\"alert alert-block alert-info\">\n",
    "<b>The <i>else</i> statement:</b> When using an <i>if-elif-else structure</i>, any clauses associated with the else statement are executed whenever none of the conditions in the <i>if</i> and <i>elif</i> checks are satisfied.\n",
    "</div>\n",
    "\n",
    "[Back to Table of Contents](#Table_of_Contents)<br>\n",
    "\n",
    "<b>In the block of code below, create a way that will test if the variable my_var is divisible by 2 and/or 3.  <B>"
   ]
  },
  {
   "cell_type": "code",
   "execution_count": null,
   "metadata": {},
   "outputs": [],
   "source": []
  },
  {
   "cell_type": "code",
   "execution_count": null,
   "metadata": {},
   "outputs": [],
   "source": []
  }
 ],
 "metadata": {
  "kernelspec": {
   "display_name": "Python 3",
   "language": "python",
   "name": "python3"
  },
  "language_info": {
   "codemirror_mode": {
    "name": "ipython",
    "version": 3
   },
   "file_extension": ".py",
   "mimetype": "text/x-python",
   "name": "python",
   "nbconvert_exporter": "python",
   "pygments_lexer": "ipython3",
   "version": "3.7.4"
  }
 },
 "nbformat": 4,
 "nbformat_minor": 2
}
