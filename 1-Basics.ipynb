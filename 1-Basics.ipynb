{
 "cells": [
  {
   "cell_type": "markdown",
   "metadata": {},
   "source": [
    "# Python Basics\n",
    "Prepared by: Jen Nunnelley and Nickolas Freeman, Ph.D.\n",
    "\n",
    "This notebook provides a very basic introduction to the Python programming language. The following description of the Python language was taken from https://en.wikipedia.org/wiki/Python_(programming_language) on 1/6/2018, and serves as a decent introduction to the language.\n",
    "\n",
    ">Python is an interpreted high-level programming language for general-purpose programming. Created by Guido van Rossum and first released in 1991, Python has a design philosophy that emphasizes code readability, and a syntax that allows programmers to express concepts in fewer lines of code, notably using significant whitespace. It provides constructs that enable clear programming on both small and large scales.\n",
    "\n",
    ">Python is a multi-paradigm programming language. Object-oriented programming and structured programming are fully supported, and many of its features support functional programming and aspect-oriented programming (including by metaprogramming and metaobjects (magic methods)). Many other paradigms are supported via extensions, including design by contract and logic programming.\n",
    "\n",
    ">The language's core philosophy is summarized in the document The Zen of Python (PEP 20), which includes aphorisms such as:\n",
    "\n",
    "> - Beautiful is better than ugly\n",
    "> - Explicit is better than implicit\n",
    "> - Simple is better than complex\n",
    "> - Complex is better than complicated\n",
    "> - Readability counts\n",
    "\n",
    "> Rather than having all of its functionality built into its core, Python was designed to be highly extensible. This compact modularity has made it particularly popular as a means of adding programmable interfaces to existing applications. Van Rossum's vision of a small core language with a large standard library and easily extensible interpreter stemmed from his frustrations with ABC, another programming language that espoused the opposite approach.\n",
    "\n",
    "> While offering choice in coding methodology, the Python philosophy rejects exuberant syntax (such as that of Perl) in favor of a simpler, less-cluttered grammar. As Alex Martelli put it: \"To describe something as 'clever' is not considered a compliment in the Python culture.\" Python's philosophy rejects the Perl \"there is more than one way to do it\" approach to language design in favor of \"there should be one—and preferably only one—obvious way to do it\".\n",
    "\n",
    ">Python's developers strive to avoid premature optimization, and reject patches to non-critical parts of CPython that would offer marginal increases in speed at the cost of clarity. When speed is important, a Python programmer can move time-critical functions to extension modules written in languages such as C, or use PyPy, a just-in-time compiler. Cython is also available, which translates a Python script into C and makes direct C-level API calls into the Python interpreter.\n",
    "\n",
    ">An important goal of Python's developers is keeping it fun to use. This is reflected in the language's name—a tribute to the British comedy group Monty Python—and in occasionally playful approaches to tutorials and reference materials, such as examples that refer to spam and eggs (from a famous Monty Python sketch) instead of the standard foo and bar.\n",
    "\n",
    ">A common neologism in the Python community is *pythonic*, which can have a wide range of meanings related to program style. To say that code is pythonic is to say that it uses Python idioms well, that it is natural or shows fluency in the language, that it conforms with Python's minimalist philosophy and emphasis on readability. In contrast, code that is difficult to understand or reads like a rough transcription from another programming language is called unpythonic.\n",
    "\n",
    ">Users and admirers of Python, especially those considered knowledgeable or experienced, are often referred to as Pythonists, Pythonistas, and Pythoneers\n",
    "\n",
    "## Disclaimer\n",
    "As stated previously, this notebook doesn't represent a comprehensive overview of the Python programming language. Instead, it provides basic details on data structures that are useful for addressing problems in operations and supply chain management. In this notebook, we will primarly be using objects and operations that are defined in the base language. Other notebooks will look at the extended functionality available through additional libraries that may be imported into a Python project.\n",
    "\n",
    "Before continuing, it is important to realize that the Python language and the available libraries will continue to evolve. That being said, the objects, functions, and methods described in this notebook may one day change. If changes occur, areas of this notebook that use deprecated features may cease to work and will need to be revised or omitted.\n",
    "\n",
    "The following table of contents lists the topics discussed in this notebook. Clicking on any topic will advance the notebook to the associated area."
   ]
  },
  {
   "cell_type": "markdown",
   "metadata": {},
   "source": [
    "# Table of Contents\n",
    "<a id=\"Table_of_Contents\"> </a>\n",
    "1. [Getting Help](#Getting_Help)<br>\n",
    "2. [Mathematical Operations and Precedence Relationships](#Math_Ops_Prec)<br>\n",
    "3. [Variables](#Variables)<br>\n",
    "4. [Flow Control](#Flow_Control)<br>\n",
    "    4.1 [The Importance of Spacing](#Importance_of_spacing)<br>\n",
    "    4.2 [if Statements](#if_Statements)<br>\n",
    "    4.3 [while Loops](#while_Loops)<br>\n",
    "    4.4 [break Statements](#break_Statements)<br>\n",
    "    4.5 [continue Statements](#continue_Statements)<br>\n",
    "    4.6 [for Loops](#for_Loops)<br>\n",
    "5. [Data Structures](#Data_Structures)<br>\n",
    "    5.1 [Lists](#Lists)<br>\n",
    "    5.2 [List Comprehensions](#List_Comprehensions)<br>\n",
    "    5.3 [Accessing List Elements](#Access_List_Elements)<br>\n",
    "    5.4 [Dictionaries](#Dictionaries)<br>\n",
    "    5.5 [Tuples](#Tuples)<br>\n",
    "    5.6 [Sets](#Sets)<br>  \n",
    "6. [String Formatting](#String_formatting)"
   ]
  },
  {
   "cell_type": "markdown",
   "metadata": {},
   "source": [
    "## Getting Help\n",
    "<a id=\"Getting_Help\"> </a>\n",
    "\n",
    "helllo"
   ]
  },
  {
   "cell_type": "code",
   "execution_count": 2,
   "metadata": {},
   "outputs": [
    {
     "data": {
      "text/plain": [
       "27"
      ]
     },
     "execution_count": 2,
     "metadata": {},
     "output_type": "execute_result"
    }
   ],
   "source": []
  }
 ],
 "metadata": {
  "kernelspec": {
   "display_name": "Python 3",
   "language": "python",
   "name": "python3"
  },
  "language_info": {
   "codemirror_mode": {
    "name": "ipython",
    "version": 3
   },
   "file_extension": ".py",
   "mimetype": "text/x-python",
   "name": "python",
   "nbconvert_exporter": "python",
   "pygments_lexer": "ipython3",
   "version": "3.7.4"
  }
 },
 "nbformat": 4,
 "nbformat_minor": 2
}
